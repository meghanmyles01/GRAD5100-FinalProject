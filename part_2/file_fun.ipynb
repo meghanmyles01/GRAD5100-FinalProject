{
 "cells": [
  {
   "cell_type": "markdown",
   "id": "46482b93",
   "metadata": {},
   "source": [
    "# 1\n",
    "\n",
    "Write a function that takes a string of the form xxxxx_nnnnn_extension, where: \n",
    "- xxxxx is a 5 digit number, \n",
    "- nnnnn is a five digit alphabetic code, and \n",
    "- extension is one of ‘py’,‘txt’, or ‘csv’\n",
    "\n",
    "and extracts the alphabetic code nnnnn and the extension and returns a string of the form nnnnn.extension. So, for example, given ‘35538_YLTRR_csv’ it returns ‘YLTRR.csv’."
   ]
  },
  {
   "cell_type": "code",
   "execution_count": 34,
   "id": "70ea7209",
   "metadata": {},
   "outputs": [],
   "source": [
    "import pandas as pd\n",
    "import os"
   ]
  },
  {
   "cell_type": "code",
   "execution_count": 35,
   "id": "4695caba",
   "metadata": {},
   "outputs": [],
   "source": [
    "def string_editor(string):\n",
    "    parts = string.split('_')\n",
    "    filename = parts[1] + '.' + parts[2]\n",
    "    return filename"
   ]
  },
  {
   "cell_type": "code",
   "execution_count": 36,
   "id": "b853330e",
   "metadata": {},
   "outputs": [
    {
     "data": {
      "text/plain": [
       "'YLTRR.csv'"
      ]
     },
     "execution_count": 36,
     "metadata": {},
     "output_type": "execute_result"
    }
   ],
   "source": [
    "string_editor('35538_YLTRR_csv')"
   ]
  },
  {
   "cell_type": "markdown",
   "id": "480a76e8",
   "metadata": {},
   "source": [
    "# 2\n",
    "\n",
    "Using your function, write code that reads in the entries from codes.txt and for each\n",
    "code writes the 5 digit number xxxxx into a file named nnnnn.extension constructed by\n",
    "your function in part 1. All of these files should be contained in a subdirectory of your\n",
    "main project directory called ‘expanded’. So for example, you would create a file called\n",
    "expanded/YLTRR.csv containing (just) 35538."
   ]
  },
  {
   "cell_type": "code",
   "execution_count": 37,
   "id": "41e25963",
   "metadata": {},
   "outputs": [
    {
     "data": {
      "text/html": [
       "<div>\n",
       "<style scoped>\n",
       "    .dataframe tbody tr th:only-of-type {\n",
       "        vertical-align: middle;\n",
       "    }\n",
       "\n",
       "    .dataframe tbody tr th {\n",
       "        vertical-align: top;\n",
       "    }\n",
       "\n",
       "    .dataframe thead th {\n",
       "        text-align: right;\n",
       "    }\n",
       "</style>\n",
       "<table border=\"1\" class=\"dataframe\">\n",
       "  <thead>\n",
       "    <tr style=\"text-align: right;\">\n",
       "      <th></th>\n",
       "      <th>0</th>\n",
       "    </tr>\n",
       "  </thead>\n",
       "  <tbody>\n",
       "    <tr>\n",
       "      <th>0</th>\n",
       "      <td>26167_ZCOPM_py</td>\n",
       "    </tr>\n",
       "    <tr>\n",
       "      <th>1</th>\n",
       "      <td>69118_WREZP_py</td>\n",
       "    </tr>\n",
       "    <tr>\n",
       "      <th>2</th>\n",
       "      <td>20278_BOCOV_txt</td>\n",
       "    </tr>\n",
       "    <tr>\n",
       "      <th>3</th>\n",
       "      <td>82542_TRNPP_txt</td>\n",
       "    </tr>\n",
       "    <tr>\n",
       "      <th>4</th>\n",
       "      <td>50874_PXFVT_py</td>\n",
       "    </tr>\n",
       "  </tbody>\n",
       "</table>\n",
       "</div>"
      ],
      "text/plain": [
       "                 0\n",
       "0   26167_ZCOPM_py\n",
       "1   69118_WREZP_py\n",
       "2  20278_BOCOV_txt\n",
       "3  82542_TRNPP_txt\n",
       "4   50874_PXFVT_py"
      ]
     },
     "execution_count": 37,
     "metadata": {},
     "output_type": "execute_result"
    }
   ],
   "source": [
    "if not os.path.exists('expanded'):\n",
    "    os.makedirs('expanded')\n",
    "    \n",
    "data = pd.read_csv('codes.txt', header = None)\n",
    "data.head()"
   ]
  },
  {
   "cell_type": "code",
   "execution_count": 38,
   "id": "a56a7615",
   "metadata": {},
   "outputs": [],
   "source": [
    "for i in range(len(data)):\n",
    "    string = data.iloc[i, 0]\n",
    "    parts = string.split('_')\n",
    "    number = parts[0]\n",
    "    filename = string_editor(string)\n",
    "    subdir = os.path.join('expanded', filename)\n",
    "    os.makedirs(subdir, exist_ok = True)\n",
    "    file_path = os.path.join(subdir, filename)\n",
    "    with open(file_path, 'w') as outfile:\n",
    "        outfile.write(number)"
   ]
  }
 ],
 "metadata": {
  "kernelspec": {
   "display_name": "Python 3 (ipykernel)",
   "language": "python",
   "name": "python3"
  },
  "language_info": {
   "codemirror_mode": {
    "name": "ipython",
    "version": 3
   },
   "file_extension": ".py",
   "mimetype": "text/x-python",
   "name": "python",
   "nbconvert_exporter": "python",
   "pygments_lexer": "ipython3",
   "version": "3.9.17"
  }
 },
 "nbformat": 4,
 "nbformat_minor": 5
}
