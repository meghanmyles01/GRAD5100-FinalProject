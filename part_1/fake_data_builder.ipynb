{
 "cells": [
  {
   "cell_type": "code",
   "execution_count": 102,
   "id": "aa3f5b08",
   "metadata": {},
   "outputs": [],
   "source": [
    "import random\n",
    "import numpy as np\n",
    "import pandas as pd\n",
    "import matplotlib.pyplot as plt\n",
    "\n",
    "random.seed(123)"
   ]
  },
  {
   "cell_type": "markdown",
   "id": "6607ee9a",
   "metadata": {},
   "source": [
    "# 1. Create a DataFrame"
   ]
  },
  {
   "cell_type": "code",
   "execution_count": 96,
   "id": "bf3c84de",
   "metadata": {},
   "outputs": [],
   "source": [
    "ID = []\n",
    "for i in range(1, 801):\n",
    "    id_number = f\"ID{i:03d}\"\n",
    "    ID.append(id_number)\n",
    "    \n",
    "Group = ['A'] * 266 + ['B'] * 267 + ['C'] * 267\n",
    "random.shuffle(Group)\n",
    "\n",
    "Feature_1 = np.random.normal(2500, 150, 800)\n",
    "\n",
    "Feature_2 = np.random.normal(400, 15, 800)\n",
    "\n",
    "df = pd.DataFrame({'ID': ID, 'Group': Group, 'Feature_1': Feature_1, 'Feature_2': Feature_2})"
   ]
  },
  {
   "cell_type": "code",
   "execution_count": 97,
   "id": "e646e695",
   "metadata": {},
   "outputs": [
    {
     "data": {
      "text/html": [
       "<div>\n",
       "<style scoped>\n",
       "    .dataframe tbody tr th:only-of-type {\n",
       "        vertical-align: middle;\n",
       "    }\n",
       "\n",
       "    .dataframe tbody tr th {\n",
       "        vertical-align: top;\n",
       "    }\n",
       "\n",
       "    .dataframe thead th {\n",
       "        text-align: right;\n",
       "    }\n",
       "</style>\n",
       "<table border=\"1\" class=\"dataframe\">\n",
       "  <thead>\n",
       "    <tr style=\"text-align: right;\">\n",
       "      <th></th>\n",
       "      <th>ID</th>\n",
       "      <th>Group</th>\n",
       "      <th>Feature_1</th>\n",
       "      <th>Feature_2</th>\n",
       "      <th>Feature_3</th>\n",
       "    </tr>\n",
       "  </thead>\n",
       "  <tbody>\n",
       "    <tr>\n",
       "      <th>0</th>\n",
       "      <td>ID001</td>\n",
       "      <td>C</td>\n",
       "      <td>2508.787781</td>\n",
       "      <td>388.356548</td>\n",
       "      <td>-2120.431234</td>\n",
       "    </tr>\n",
       "    <tr>\n",
       "      <th>1</th>\n",
       "      <td>ID002</td>\n",
       "      <td>B</td>\n",
       "      <td>2525.459948</td>\n",
       "      <td>382.820397</td>\n",
       "      <td>5050.919896</td>\n",
       "    </tr>\n",
       "    <tr>\n",
       "      <th>2</th>\n",
       "      <td>ID003</td>\n",
       "      <td>B</td>\n",
       "      <td>2667.371137</td>\n",
       "      <td>393.715154</td>\n",
       "      <td>5334.742274</td>\n",
       "    </tr>\n",
       "    <tr>\n",
       "      <th>3</th>\n",
       "      <td>ID004</td>\n",
       "      <td>A</td>\n",
       "      <td>2575.543964</td>\n",
       "      <td>408.434601</td>\n",
       "      <td>5684.458885</td>\n",
       "    </tr>\n",
       "    <tr>\n",
       "      <th>4</th>\n",
       "      <td>ID005</td>\n",
       "      <td>C</td>\n",
       "      <td>2536.025082</td>\n",
       "      <td>412.159649</td>\n",
       "      <td>-2123.865433</td>\n",
       "    </tr>\n",
       "  </tbody>\n",
       "</table>\n",
       "</div>"
      ],
      "text/plain": [
       "      ID Group    Feature_1   Feature_2    Feature_3\n",
       "0  ID001     C  2508.787781  388.356548 -2120.431234\n",
       "1  ID002     B  2525.459948  382.820397  5050.919896\n",
       "2  ID003     B  2667.371137  393.715154  5334.742274\n",
       "3  ID004     A  2575.543964  408.434601  5684.458885\n",
       "4  ID005     C  2536.025082  412.159649 -2123.865433"
      ]
     },
     "execution_count": 97,
     "metadata": {},
     "output_type": "execute_result"
    }
   ],
   "source": [
    "Feature_3 = []\n",
    "\n",
    "for i in range(0, 800):\n",
    "    if df.iloc[i, 1] == 'A':\n",
    "        value = 3 * df.iloc[i, 2] - 5 * df.iloc[i, 3]\n",
    "        Feature_3.append(value)\n",
    "    elif df.iloc[i, 1] == 'B':\n",
    "        value = 2 * df.iloc[i, 2]\n",
    "        Feature_3.append(value)\n",
    "    elif df.iloc[i, 1] == 'C':\n",
    "        value = -1 * df.iloc[i, 2] + df.iloc[i,3]\n",
    "        Feature_3.append(value)\n",
    "\n",
    "df['Feature_3'] = Feature_3\n",
    "\n",
    "df.head()"
   ]
  },
  {
   "cell_type": "markdown",
   "id": "61341e06",
   "metadata": {},
   "source": [
    "# 2. Questions\n",
    "\n",
    "## a. Based on the theoretical distribution of Feature_1, how many samples do you expect to find where the value of the feature is greater than 3000?\n",
    "\n",
    "I based my creation of `Feature_1` on the empirical rule. Since the variable is normally distributed, about 68% of the data lies within one standard deviation, about 95% of the data lies within two standard deviations, and about 99.7% of the data falls within three standard deviations. 68% is close to the given fact that 66% of the data lays between 2200 and 2800. We extrapolated that the standard deviation is therefore about 150. This means that values greater than 2950 are more than three standard deviations from the mean. 2950 is close in value to 3000. Therefore, we expect that about 0.15% ($\\frac{100-99.7}{2} = 0.15$), or about 1 sample, will have a `Feature_1` value greater than 3000.\n",
    "\n",
    "## b. How many samples did you actually find where Feature_1 is greater than 3000?"
   ]
  },
  {
   "cell_type": "code",
   "execution_count": 98,
   "id": "0e089e32",
   "metadata": {},
   "outputs": [
    {
     "name": "stdout",
     "output_type": "stream",
     "text": [
      "1\n"
     ]
    }
   ],
   "source": [
    "samples_above_3000 = np.sum(Feature_1 > 3000)\n",
    "print(samples_above_3000)"
   ]
  },
  {
   "cell_type": "markdown",
   "id": "a4d27d0e",
   "metadata": {},
   "source": [
    "Our prediction was accurate - we actually found that 1 sample had `Feature_1` greater than 3000.\n",
    "\n",
    "## c.  Group the dataset by the Group field and compute the mean and standard deviation of Feature_3 within each group."
   ]
  },
  {
   "cell_type": "code",
   "execution_count": 100,
   "id": "9c9afa9c",
   "metadata": {},
   "outputs": [
    {
     "name": "stdout",
     "output_type": "stream",
     "text": [
      "              mean         std\n",
      "Group                         \n",
      "A      5534.878754  476.880674\n",
      "B      5018.293209  295.523907\n",
      "C     -2093.578825  148.826878\n"
     ]
    }
   ],
   "source": [
    "grouped = df.groupby('Group')['Feature_3'].agg(['mean', 'std'])\n",
    "print(grouped)"
   ]
  },
  {
   "cell_type": "markdown",
   "id": "2b6af6b7",
   "metadata": {},
   "source": [
    "# 3. Make a scatterplot of Feature_3 vs Feature_1."
   ]
  },
  {
   "cell_type": "code",
   "execution_count": 104,
   "id": "ecb1c33e",
   "metadata": {},
   "outputs": [
    {
     "data": {
      "image/png": "[encoded data removed]",
      "text/plain": [
       "<Figure size 640x480 with 1 Axes>"
      ]
     },
     "metadata": {},
     "output_type": "display_data"
    }
   ],
   "source": [
    "plt.scatter(df['Feature_1'], df['Feature_3'], alpha=0.7)\n",
    "plt.xlabel('Feature_1')\n",
    "plt.ylabel('Feature_3')\n",
    "plt.title('Scatter Plot of Feature_3 vs Feature_1')\n",
    "plt.grid(True)\n",
    "plt.show()"
   ]
  },
  {
   "cell_type": "markdown",
   "id": "e41706be",
   "metadata": {},
   "source": [
    "# 4. Write your constructed dataframe/tibble to a csv file called fake_data.csv."
   ]
  },
  {
   "cell_type": "code",
   "execution_count": 105,
   "id": "78140230",
   "metadata": {},
   "outputs": [],
   "source": [
    "df.to_csv('fake_data.csv', index=False)"
   ]
  }
 ],
 "metadata": {
  "kernelspec": {
   "display_name": "Python 3 (ipykernel)",
   "language": "python",
   "name": "python3"
  },
  "language_info": {
   "codemirror_mode": {
    "name": "ipython",
    "version": 3
   },
   "file_extension": ".py",
   "mimetype": "text/x-python",
   "name": "python",
   "nbconvert_exporter": "python",
   "pygments_lexer": "ipython3",
   "version": "3.9.17"
  }
 },
 "nbformat": 4,
 "nbformat_minor": 5
}
